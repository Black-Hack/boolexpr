{
 "cells": [
  {
   "cell_type": "code",
   "execution_count": 1,
   "metadata": {
    "collapsed": true
   },
   "outputs": [],
   "source": [
    "import sys\n",
    "sys.path.insert(0, \"..\")"
   ]
  },
  {
   "cell_type": "code",
   "execution_count": 2,
   "metadata": {
    "collapsed": true
   },
   "outputs": [],
   "source": [
    "from boolexpr import Context\n",
    "from boolexpr import and_s, onehot"
   ]
  },
  {
   "cell_type": "code",
   "execution_count": 3,
   "metadata": {
    "collapsed": true
   },
   "outputs": [],
   "source": [
    "ctx = Context()"
   ]
  },
  {
   "cell_type": "code",
   "execution_count": 4,
   "metadata": {
    "collapsed": true
   },
   "outputs": [],
   "source": [
    "DIGITS = \"123456789\""
   ]
  },
  {
   "cell_type": "code",
   "execution_count": 5,
   "metadata": {
    "collapsed": false
   },
   "outputs": [],
   "source": [
    "xs = [ [ [ctx.get_var(\"x[%s,%s,%s]\" % (i, j, k)) for k in range(9)]\n",
    "         for j in range(9) ]\n",
    "       for i in range(9) ]"
   ]
  },
  {
   "cell_type": "code",
   "execution_count": 6,
   "metadata": {
    "collapsed": false
   },
   "outputs": [],
   "source": [
    "V = and_s(*[\n",
    "        and_s(*[\n",
    "            onehot(*[ xs[r][c][v] for v in range(9) ])\n",
    "            for c in range(9)\n",
    "        ])\n",
    "        for r in range(9)\n",
    "    ])"
   ]
  },
  {
   "cell_type": "code",
   "execution_count": 7,
   "metadata": {
    "collapsed": false
   },
   "outputs": [],
   "source": [
    "R = and_s(*[\n",
    "        and_s(*[\n",
    "            onehot(*[ xs[r][c][v] for c in range(9) ])\n",
    "            for v in range(9)\n",
    "        ])\n",
    "        for r in range(9)\n",
    "    ])"
   ]
  },
  {
   "cell_type": "code",
   "execution_count": 8,
   "metadata": {
    "collapsed": false
   },
   "outputs": [],
   "source": [
    "C = and_s(*[\n",
    "        and_s(*[\n",
    "            onehot(*[ xs[r][c][v] for r in range(9) ])\n",
    "            for v in range(9)\n",
    "        ])\n",
    "        for c in range(9)\n",
    "    ])"
   ]
  },
  {
   "cell_type": "code",
   "execution_count": 9,
   "metadata": {
    "collapsed": false
   },
   "outputs": [],
   "source": [
    "B = and_s(*[\n",
    "        and_s(*[\n",
    "            onehot(*[ xs[3*br+r][3*bc+c][v]\n",
    "                      for r in range(3) for c in range(3) ])\n",
    "            for v in range(9)\n",
    "        ])\n",
    "        for br in range(3) for bc in range(3)\n",
    "    ])"
   ]
  },
  {
   "cell_type": "code",
   "execution_count": 10,
   "metadata": {
    "collapsed": false
   },
   "outputs": [],
   "source": [
    "S = and_s(V, R, C, B)"
   ]
  },
  {
   "cell_type": "code",
   "execution_count": 11,
   "metadata": {
    "collapsed": true
   },
   "outputs": [],
   "source": [
    ">>> def parse_grid(grid):\n",
    "        chars = [c for c in grid if c in DIGITS or c in \"0.\"]\n",
    "        assert len(chars) == 9 ** 2\n",
    "        return and_s(*[ xs[i//9][i%9][int(c)-1]\n",
    "                        for i, c in enumerate(chars) if c in DIGITS ])"
   ]
  },
  {
   "cell_type": "code",
   "execution_count": 12,
   "metadata": {
    "collapsed": true
   },
   "outputs": [],
   "source": [
    "grid = ( \".73|...|8..\"\n",
    "         \"..4|13.|.5.\"\n",
    "         \".85|..6|31.\"\n",
    "         \"---+---+---\"\n",
    "         \"5..|.9.|.3.\"\n",
    "         \"..8|.1.|5..\"\n",
    "         \".1.|.6.|..7\"\n",
    "         \"---+---+---\"\n",
    "         \".51|6..|28.\"\n",
    "         \".4.|.52|9..\"\n",
    "         \"..2|...|64.\" )"
   ]
  },
  {
   "cell_type": "code",
   "execution_count": 13,
   "metadata": {
    "collapsed": true
   },
   "outputs": [],
   "source": [
    "def get_val(point, r, c):\n",
    "    for v in range(9):\n",
    "        if point[xs[r][c][v]]:\n",
    "            return DIGITS[v]\n",
    "    return \"X\""
   ]
  },
  {
   "cell_type": "code",
   "execution_count": 14,
   "metadata": {
    "collapsed": true
   },
   "outputs": [],
   "source": [
    "def display(point):\n",
    "    chars = list()\n",
    "    for r in range(9):\n",
    "        for c in range(9):\n",
    "            if c in (3, 6):\n",
    "                chars.append(\"|\")\n",
    "            chars.append(get_val(point, r, c))\n",
    "        if r != 8:\n",
    "            chars.append(\"\\n\")\n",
    "            if r in (2, 5):\n",
    "                chars.append(\"---+---+---\\n\")\n",
    "    print(\"\".join(chars))"
   ]
  },
  {
   "cell_type": "code",
   "execution_count": 15,
   "metadata": {
    "collapsed": false
   },
   "outputs": [
    {
     "name": "stdout",
     "output_type": "stream",
     "text": [
      "173|529|864\n",
      "694|138|752\n",
      "285|476|319\n",
      "---+---+---\n",
      "567|294|138\n",
      "428|713|596\n",
      "319|865|427\n",
      "---+---+---\n",
      "951|647|283\n",
      "846|352|971\n",
      "732|981|645\n"
     ]
    }
   ],
   "source": [
    "f = and_s(S, parse_grid(grid))\n",
    "solns = list(f.iter_sat())\n",
    "\n",
    "# Verify there is exactly one solution\n",
    "assert len(solns) == 1\n",
    "\n",
    "display(solns[0])"
   ]
  },
  {
   "cell_type": "code",
   "execution_count": null,
   "metadata": {
    "collapsed": true
   },
   "outputs": [],
   "source": []
  }
 ],
 "metadata": {
  "kernelspec": {
   "display_name": "Python 3",
   "language": "python",
   "name": "python3"
  },
  "language_info": {
   "codemirror_mode": {
    "name": "ipython",
    "version": 3
   },
   "file_extension": ".py",
   "mimetype": "text/x-python",
   "name": "python",
   "nbconvert_exporter": "python",
   "pygments_lexer": "ipython3",
   "version": "3.5.1"
  }
 },
 "nbformat": 4,
 "nbformat_minor": 0
}
